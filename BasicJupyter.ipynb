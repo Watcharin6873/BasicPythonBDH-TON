{
 "cells": [
  {
   "cell_type": "markdown",
   "id": "4d9dd7dc-f0ee-45e0-889f-715ec1481bac",
   "metadata": {},
   "source": [
    "### ตัวอย่างการเขียนคำอธิบาย"
   ]
  },
  {
   "cell_type": "code",
   "execution_count": 2,
   "id": "d973bd80-dee8-43a5-bc3b-a6f258f3e0f6",
   "metadata": {},
   "outputs": [
    {
     "name": "stdout",
     "output_type": "stream",
     "text": [
      "Hello World\n"
     ]
    }
   ],
   "source": [
    "print(\"Hello World\")"
   ]
  },
  {
   "cell_type": "code",
   "execution_count": null,
   "id": "9c9796ed-dd2b-47f4-90d4-e1474887a1c9",
   "metadata": {},
   "outputs": [],
   "source": []
  }
 ],
 "metadata": {
  "kernelspec": {
   "display_name": "Python 3 (ipykernel)",
   "language": "python",
   "name": "python3"
  },
  "language_info": {
   "codemirror_mode": {
    "name": "ipython",
    "version": 3
   },
   "file_extension": ".py",
   "mimetype": "text/x-python",
   "name": "python",
   "nbconvert_exporter": "python",
   "pygments_lexer": "ipython3",
   "version": "3.11.5"
  }
 },
 "nbformat": 4,
 "nbformat_minor": 5
}
